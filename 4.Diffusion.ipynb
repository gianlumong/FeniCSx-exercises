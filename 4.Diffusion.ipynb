{
 "cells": [
  {
   "cell_type": "markdown",
   "id": "32db96da",
   "metadata": {},
   "source": [
    "# The heat equation problem \n",
    "\n",
    "Is a PDE that depends also on the time (t); thus, to solve this equation we need to solve n-variational problem (1 problem for each t-step)"
   ]
  },
  {
   "cell_type": "code",
   "execution_count": 1,
   "id": "79094559",
   "metadata": {},
   "outputs": [],
   "source": [
    "import matplotlib as mpl\n",
    "import pyvista\n",
    "import ufl\n",
    "import numpy as np\n",
    "\n",
    "from petsc4py import PETSc\n",
    "from mpi4py import MPI\n",
    "\n",
    "from dolfinx import fem, mesh, io, plot\n",
    "\n",
    "# Define temporal parameters\n",
    "t = 0  # Start time\n",
    "T = 1.0  # Final time\n",
    "num_steps = 50\n",
    "dt = T / num_steps  # time step size\n",
    "\n",
    "# Define mesh on a rectangular domain Ω [-2,2]x[-2,2], with triangular elements \n",
    "nx, ny = 50, 50\n",
    "domain = mesh.create_rectangle(MPI.COMM_WORLD, [np.array([-2, -2]), np.array([2, 2])],[nx, ny], mesh.CellType.triangle)\n",
    "\n",
    "\n",
    "V = fem.functionspace(domain, (\"Lagrange\", 1)) # define the vector space of continuous piecewise linear functions (Lagrange: 1)"
   ]
  },
  {
   "cell_type": "markdown",
   "id": "fcc97b80",
   "metadata": {},
   "source": [
    "define initial condition and boundary condition:\n",
    "\n",
    "u_0= e^(-a*x^2 - a*y^2)\n",
    "\n",
    "u_D=0 <---Dirichlet boundary condition"
   ]
  },
  {
   "cell_type": "code",
   "execution_count": 2,
   "id": "d53a7d96",
   "metadata": {},
   "outputs": [],
   "source": [
    "# Create initial condition\n",
    "def initial_condition(x, a=5):\n",
    "    return np.exp(-a * (x[0]**2 + x[1]**2))\n",
    "\n",
    "\n",
    "# Create boundary condition\n",
    "fdim = domain.topology.dim - 1  # dimension of the facets\n",
    "boundary_facets = mesh.locate_entities_boundary(domain, fdim, lambda x: np.full(x.shape[1], True, dtype=bool))\n",
    "# the function: lambda x: np.full(x.shape[1], True, dtype=bool)\n",
    "# basically says: \"Give me all the facets that are actually on the boundary of the domain, WITHOUT ANY ADDITIONAL SELECTION\".\n",
    "\n",
    "\n",
    "bc = fem.dirichletbc(PETSc.ScalarType(0), fem.locate_dofs_topological(V, fdim, boundary_facets), V) # this is how I define the bc\n"
   ]
  },
  {
   "cell_type": "markdown",
   "id": "5abc386d",
   "metadata": {},
   "source": [
    "XDMFiles are very convenient for time-dependent problems because they can store mesh and solutions separately.\n",
    "\n",
    "So, they will be able to save memory, for example by storing a single mesh and various solutions (relative to that single mesh)."
   ]
  },
  {
   "cell_type": "code",
   "execution_count": 3,
   "id": "9be8c0a9",
   "metadata": {},
   "outputs": [],
   "source": [
    "xdmf=io.XDMFFile(domain.comm,'diffusion.xdmf','w') # I put the xdmf file (which I call diffusion.xdmf) in write mode ('w')\n",
    "xdmf.write_mesh(domain)\n",
    "# domain.comm ensures that we use as the only communicator: COMM_WORLD "
   ]
  },
  {
   "cell_type": "markdown",
   "id": "fde346d3",
   "metadata": {},
   "source": [
    "# Imposing the initial condition"
   ]
  },
  {
   "cell_type": "markdown",
   "id": "591e7173",
   "metadata": {},
   "source": [
    "Now I define the solution uh\n",
    "\n",
    "I remember that there are 2 ways to impose the initial condition u0 to u_n (with n=0):\n",
    "\n",
    "-L2_projection (u_n would be the L2_projection of u0)<---this would require finding the VARIATIONAL formula of u_n=u0\n",
    "\n",
    "-Interpolation of u0 on the vector space V \n",
    "\n",
    "\n",
    "We decide to choose interpolation!!!"
   ]
  },
  {
   "cell_type": "code",
   "execution_count": 4,
   "id": "9e3ff2e1",
   "metadata": {},
   "outputs": [],
   "source": [
    "uh=fem.Function(V)\n",
    "uh.name='uh'\n",
    "uh.interpolate(initial_condition)\n",
    "\n",
    "xdmf.write_function(uh,t) # let's save the time-step->0 in the xdmf file\n",
    "\n",
    "\n",
    "# Let's define the u_n that will change at each time-step \n",
    "# At t=0 we have: u_n = initial condition !!!\n",
    "u_n=fem.Function(V)\n",
    "u_n.name='u_n'\n",
    "u_n.interpolate(initial_condition)"
   ]
  },
  {
   "cell_type": "markdown",
   "id": "116c8544",
   "metadata": {},
   "source": [
    "# Define the variational equation "
   ]
  },
  {
   "cell_type": "code",
   "execution_count": 5,
   "id": "7acbff6e",
   "metadata": {},
   "outputs": [],
   "source": [
    "# define the variational problem \n",
    "u,v=ufl.TrialFunction(V),ufl.TestFunction(V)\n",
    "f=fem.Constant(domain,PETSc.ScalarType(0))\n",
    "\n",
    "a= u*v*ufl.dx + dt* ufl.dot(ufl.grad(u),ufl.grad(v))*ufl.dx\n",
    "L= (u_n + dt*f)*v*ufl.dx "
   ]
  },
  {
   "cell_type": "markdown",
   "id": "f7c1c63d",
   "metadata": {},
   "source": [
    "Remember that the problem in question is time-dependent!!\n",
    "\n",
    "So I will have to solve a sequence of variational problems (a(u,v)=L_n+1(v))\n",
    "\n",
    "So f and a new u_n (that is, u_n+1) will be calculated at each new time-step"
   ]
  },
  {
   "cell_type": "code",
   "execution_count": 6,
   "id": "466ea142",
   "metadata": {},
   "outputs": [],
   "source": [
    "bilinear_form=fem.form(a)\n",
    "linear_form=fem.form(L)"
   ]
  },
  {
   "cell_type": "markdown",
   "id": "d6776aef",
   "metadata": {},
   "source": [
    "Remember that, solving the variational formula translates into \n",
    "\n",
    "solving a linear problem of the type: Ax=b (where x will contain the values of u_n at timestep n+1)\n",
    "\n",
    "Note then that, given the nature of the problem, the matrix A will always be the same for any time-step \n",
    "\n",
    "(so I decide to assemble it only once to save memory)\n",
    "\n",
    "while b will change at each timestep, because b depends on L(v), which in turn also depends on u_n\n",
    "\n",
    "and since, in fact, u_n changes at each time-step then b WILL ALSO CHANGE AT EACH TIME-STEP"
   ]
  },
  {
   "cell_type": "code",
   "execution_count": 7,
   "id": "373298fb",
   "metadata": {},
   "outputs": [],
   "source": [
    "from dolfinx.fem.petsc import assemble_vector, assemble_matrix, create_vector, apply_lifting, set_bc\n",
    "\n",
    "A=assemble_matrix(bilinear_form,bcs=[bc])\n",
    "A.assemble()\n",
    "b=create_vector(linear_form) # unlike A, we CREATED b (and did not assemble it!)"
   ]
  },
  {
   "cell_type": "markdown",
   "id": "4a8ac761",
   "metadata": {},
   "source": [
    "Since we assembled A, we will no longer use the class: dolfinx.fem.petsc.LinearProblem\n",
    "\n",
    "to solve the linear problem (as we did in previous problems)\n",
    "\n",
    "But, we will create a linear algebra solver using PETSc"
   ]
  },
  {
   "cell_type": "code",
   "execution_count": 8,
   "id": "389b7d2a",
   "metadata": {},
   "outputs": [],
   "source": [
    "from petsc4py import PETSc\n",
    "\n",
    "solver=PETSc.KSP().create(domain.comm)\n",
    "\n",
    "solver.setOperators(A)\n",
    "\n",
    "solver.setType(PETSc.KSP.Type.PREONLY)\n",
    "solver.getPC().setType(PETSc.PC.Type.LU)"
   ]
  },
  {
   "cell_type": "code",
   "execution_count": 9,
   "id": "5c485ff1",
   "metadata": {},
   "outputs": [],
   "source": [
    "# pyvista.start_xvfb()\n",
    "\n",
    "grid = pyvista.UnstructuredGrid(*plot.vtk_mesh(V))\n",
    "\n",
    "plotter = pyvista.Plotter(window_size=(400,400))\n",
    "plotter.open_gif(\"u_time.gif\", fps=2)\n",
    "\n",
    "grid.point_data[\"uh\"] = uh.x.array # Associates a scalar field (i.e. the values of uh) to the grid nodes\n",
    "warped = grid.warp_by_scalar(\"uh\", factor=1) \n",
    "\n",
    "viridis = mpl.colormaps.get_cmap(\"viridis\").resampled(25)\n",
    "sargs = dict(title_font_size=25, label_font_size=20, fmt=\"%.2e\", color=\"black\",\n",
    "             position_x=0.1, position_y=0.8, width=0.8, height=0.1)\n",
    "\n",
    "renderer = plotter.add_mesh(warped, show_edges=True, lighting=False,\n",
    "                            cmap=viridis, scalar_bar_args=sargs,\n",
    "                            clim=[0, max(uh.x.array)])"
   ]
  },
  {
   "cell_type": "code",
   "execution_count": null,
   "id": "c468dffd",
   "metadata": {},
   "outputs": [],
   "source": [
    "for i in range(num_steps):\n",
    "    t += dt\n",
    "\n",
    "    # Update the right hand side reusing the initial vector\n",
    "    with b.localForm() as loc_b:\n",
    "        loc_b.set(0)\n",
    "    assemble_vector(b, linear_form)\n",
    "\n",
    "    # Apply Dirichlet boundary condition to the vector\n",
    "    apply_lifting(b, [bilinear_form], [[bc]])\n",
    "    b.ghostUpdate(addv=PETSc.InsertMode.ADD_VALUES, mode=PETSc.ScatterMode.REVERSE)\n",
    "    set_bc(b, [bc])\n",
    "\n",
    "    # Solve linear problem\n",
    "    solver.solve(b, uh.x.petsc_vec)\n",
    "    uh.x.scatter_forward()\n",
    "\n",
    "    # Update solution at previous time step (u_n)\n",
    "    u_n.x.array[:] = uh.x.array\n",
    "\n",
    "    # Write solution to file\n",
    "    xdmf.write_function(uh, t)\n",
    "    # Update plot\n",
    "    new_warped = grid.warp_by_scalar(\"uh\", factor=1)\n",
    "    warped.points[:, :] = new_warped.points\n",
    "    warped.point_data[\"uh\"][:] = uh.x.array\n",
    "    plotter.write_frame()\n",
    "plotter.close()\n",
    "xdmf.close()"
   ]
  }
 ],
 "metadata": {
  "kernelspec": {
   "display_name": "fenicsx-env",
   "language": "python",
   "name": "python3"
  },
  "language_info": {
   "codemirror_mode": {
    "name": "ipython",
    "version": 3
   },
   "file_extension": ".py",
   "mimetype": "text/x-python",
   "name": "python",
   "nbconvert_exporter": "python",
   "pygments_lexer": "ipython3",
   "version": "3.13.3"
  }
 },
 "nbformat": 4,
 "nbformat_minor": 5
}
