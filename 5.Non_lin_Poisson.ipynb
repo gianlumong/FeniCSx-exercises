{
 "cells": [
  {
   "cell_type": "markdown",
   "id": "b35a24c9",
   "metadata": {},
   "source": [
    "# Poisson non-linear problem\n",
    "\n",
    "Let's now try to solve a non-linear Poisson (test) problem\n",
    "\n",
    "The PDE will have the following form: -div(q(u),grad(u))=f in Omega\n",
    "\n",
    "(with the following Dirichelet BC: u=uD)\n",
    "\n",
    "The problem is non linear since: q(u)= 1 + u**2"
   ]
  },
  {
   "cell_type": "code",
   "execution_count": 2,
   "id": "f4da15c4",
   "metadata": {},
   "outputs": [],
   "source": [
    "import ufl\n",
    "import numpy\n",
    "\n",
    "from mpi4py import MPI\n",
    "from petsc4py import PETSc\n",
    "\n",
    "from dolfinx import mesh, fem, io, nls, log\n",
    "from dolfinx.fem.petsc import NonlinearProblem\n",
    "from dolfinx.nls.petsc import NewtonSolver\n",
    "\n",
    "def q(u):\n",
    "    return 1 + u**2\n",
    "\n",
    "\n",
    "# define the domain \n",
    "domain=mesh.create_unit_square(MPI.COMM_WORLD,10,10)\n",
    "\n",
    "# identify the coordinates of the mesh nodes \n",
    "x=ufl.SpatialCoordinate(domain)\n",
    "u_ufl=1+x[0]+2*x[1] # this is the exact solution that I will use to create the Dirichelet BC and also f \n",
    "f=-ufl.div(q(u_ufl)*ufl.grad(u_ufl))"
   ]
  },
  {
   "cell_type": "code",
   "execution_count": 3,
   "id": "e5994259",
   "metadata": {},
   "outputs": [],
   "source": [
    "V = fem.functionspace(domain, (\"Lagrange\", 1))\n",
    "def u_exact(x): \n",
    "    return eval(str(u_ufl))"
   ]
  },
  {
   "cell_type": "code",
   "execution_count": 4,
   "id": "79a98503",
   "metadata": {},
   "outputs": [],
   "source": [
    "u_D = fem.Function(V)\n",
    "u_D.interpolate(u_exact)\n",
    "\n",
    "# now I define the BC \n",
    "# to do this I will have to define the facets on the boundary \n",
    "# and the dofs on the boundary \n",
    "fdim = domain.topology.dim - 1\n",
    "boundary_facets = mesh.locate_entities_boundary(domain, fdim, lambda x: numpy.full(x.shape[1], True, dtype=bool))\n",
    "bc = fem.dirichletbc(u_D, fem.locate_dofs_topological(V, fdim, boundary_facets))"
   ]
  },
  {
   "cell_type": "markdown",
   "id": "31865733",
   "metadata": {},
   "source": [
    "Now I can define the variational problem\n",
    "\n",
    "(Since the problem is non-linear I will not have to define a trial function (u), but simply define a Function (uh) which will be the unknown of our problem)"
   ]
  },
  {
   "cell_type": "code",
   "execution_count": 5,
   "id": "4b284a5a",
   "metadata": {},
   "outputs": [],
   "source": [
    "uh = fem.Function(V)\n",
    "v = ufl.TestFunction(V)\n",
    "F = q(uh) * ufl.dot(ufl.grad(uh), ufl.grad(v)) * ufl.dx - f * v * ufl.dx \n",
    "# F(u,v) should be =0, so we can treat F as a residual!!!!"
   ]
  },
  {
   "cell_type": "markdown",
   "id": "cecfd610",
   "metadata": {},
   "source": [
    "# Newton method\n",
    "\n",
    "In the case of non-linear systems we will need to minimize the residual F\n",
    "\n",
    "To do this we will use techniques such as:\n",
    "\n",
    "-Newton's method\n",
    "\n",
    "In the Newton method procedure we will need to compute Jacobian matrices\n",
    "\n",
    "DOLFINx provides the 'NonLinearProblem' function that implements these methods!"
   ]
  },
  {
   "cell_type": "code",
   "execution_count": 6,
   "id": "7df46a0c",
   "metadata": {},
   "outputs": [],
   "source": [
    "problem=NonlinearProblem(F,uh,bcs=[bc])\n",
    "\n",
    "# In this way I have defined the non-linear problem!    "
   ]
  },
  {
   "cell_type": "markdown",
   "id": "c9b0ca50",
   "metadata": {},
   "source": [
    "As a solver for the non-linear problem we will therefore use Newton's method"
   ]
  },
  {
   "cell_type": "code",
   "execution_count": 7,
   "id": "d4d5e483",
   "metadata": {},
   "outputs": [],
   "source": [
    "solver=NewtonSolver(MPI.COMM_WORLD,problem)\n",
    "solver.convergence_criterion='incremental'\n",
    "solver.rtol=1e-6 # set the tolerance to be met in the convergence criterion\n",
    "solver.report=True # ensures that during the solution important information is reported on each loop performed "
   ]
  },
  {
   "cell_type": "code",
   "execution_count": 8,
   "id": "34a49729",
   "metadata": {},
   "outputs": [],
   "source": [
    "# ksp = solver.krylov_solver\n",
    "# opts = PETSc.Options()\n",
    "# option_prefix = ksp.getOptionsPrefix()\n",
    "\n",
    "\n",
    "# opts[f\"{option_prefix}ksp_type\"] = \"gmres\"\n",
    "# opts[f\"{option_prefix}ksp_rtol\"] = 1.0e-8\n",
    "# opts[f\"{option_prefix}pc_type\"] = \"hypre\"\n",
    "# opts[f\"{option_prefix}pc_hypre_type\"] = \"boomeramg\"\n",
    "# opts[f\"{option_prefix}pc_hypre_boomeramg_max_iter\"] = 1\n",
    "# opts[f\"{option_prefix}pc_hypre_boomeramg_cycle_type\"] = \"v\"\n",
    "# ksp.setFromOptions()"
   ]
  },
  {
   "cell_type": "markdown",
   "id": "cac8e90e",
   "metadata": {},
   "source": [
    "Now we are able to solve the problem"
   ]
  },
  {
   "cell_type": "code",
   "execution_count": 9,
   "id": "f09a39c3",
   "metadata": {},
   "outputs": [
    {
     "name": "stdout",
     "output_type": "stream",
     "text": [
      "Number of interations: 8\n",
      "[2025-09-01 17:38:06.569] [info] PETSc Krylov solver starting to solve system.\n",
      "[2025-09-01 17:38:06.570] [info] PETSc Krylov solver starting to solve system.\n",
      "[2025-09-01 17:38:06.570] [info] Newton iteration 2: r (abs) = 20.37916572199396 (tol = 1e-10), r (rel) = 0.9225323396539479 (tol = 1e-06)\n",
      "[2025-09-01 17:38:06.570] [info] PETSc Krylov solver starting to solve system.\n",
      "[2025-09-01 17:38:06.570] [info] Newton iteration 3: r (abs) = 6.9527130087520765 (tol = 1e-10), r (rel) = 0.3147382324873168 (tol = 1e-06)\n",
      "[2025-09-01 17:38:06.570] [info] PETSc Krylov solver starting to solve system.\n",
      "[2025-09-01 17:38:06.570] [info] Newton iteration 4: r (abs) = 2.9357037199767175 (tol = 1e-10), r (rel) = 0.13289462671173238 (tol = 1e-06)\n",
      "[2025-09-01 17:38:06.570] [info] PETSc Krylov solver starting to solve system.\n",
      "[2025-09-01 17:38:06.570] [info] Newton iteration 5: r (abs) = 0.7005897396309602 (tol = 1e-10), r (rel) = 0.03171458049147569 (tol = 1e-06)\n",
      "[2025-09-01 17:38:06.571] [info] PETSc Krylov solver starting to solve system.\n",
      "[2025-09-01 17:38:06.571] [info] Newton iteration 6: r (abs) = 0.04908059205378241 (tol = 1e-10), r (rel) = 0.0022218001480850936 (tol = 1e-06)\n",
      "[2025-09-01 17:38:06.571] [info] PETSc Krylov solver starting to solve system.\n",
      "[2025-09-01 17:38:06.571] [info] Newton iteration 7: r (abs) = 0.0002994798813586662 (tol = 1e-10), r (rel) = 1.3556976737812453e-05 (tol = 1e-06)\n",
      "[2025-09-01 17:38:06.571] [info] PETSc Krylov solver starting to solve system.\n",
      "[2025-09-01 17:38:06.571] [info] Newton iteration 8: r (abs) = 1.5276902325756795e-08 (tol = 1e-10), r (rel) = 6.915610107647875e-10 (tol = 1e-06)\n",
      "[2025-09-01 17:38:06.571] [info] Newton solver finished in 8 iterations and 8 linear solver iterations.\n"
     ]
    }
   ],
   "source": [
    "log.set_log_level(log.LogLevel.INFO) # Set the log level for dolfinx.log to INFO.\n",
    "# This means that will be printed:\n",
    "# details on Newton iterations,\n",
    "# absolute and relative residuals,\n",
    "# calls to the internal linear solver.\n",
    "\n",
    "n, converged = solver.solve(uh) # start solving the non-linear problem\n",
    "# outputs: \n",
    "# n<---the number of iterations \n",
    "# converged<---a boolean that tells us if convergence was reached\n",
    "\n",
    "assert (converged) # an exception (AssertionError) will be raised if assert is not True!!!!!\n",
    "\n",
    "\n",
    "print(f\"Number of interations: {n:d}\")"
   ]
  },
  {
   "cell_type": "markdown",
   "id": "9dbb8ee4",
   "metadata": {},
   "source": [
    "We observe that the solver converges in only 8 iterations "
   ]
  },
  {
   "cell_type": "markdown",
   "id": "d8f5eb6c",
   "metadata": {},
   "source": [
    "I am going to calculate:\n",
    "\n",
    "-L2error\n",
    "\n",
    "-Max error \n",
    "\n",
    "Taking into account the analytical (exact) solution"
   ]
  },
  {
   "cell_type": "code",
   "execution_count": 10,
   "id": "b73f01d2",
   "metadata": {},
   "outputs": [
    {
     "name": "stdout",
     "output_type": "stream",
     "text": [
      "[2025-09-01 17:38:06.578] [info] Checking required entities per dimension\n",
      "[2025-09-01 17:38:06.578] [info] Cell type: 0 dofmap: 200x6\n",
      "[2025-09-01 17:38:06.578] [info] Global index computation\n",
      "[2025-09-01 17:38:06.578] [info] Got 2 index_maps\n",
      "[2025-09-01 17:38:06.578] [info] Get global indices\n",
      "L2-error: 4.79e-16\n",
      "Error_max: 8.88e-16\n"
     ]
    }
   ],
   "source": [
    "# Compute L2 error and error at nodes\n",
    "V_ex = fem.functionspace(domain, (\"Lagrange\", 2))\n",
    "u_ex = fem.Function(V_ex)\n",
    "u_ex.interpolate(u_exact)\n",
    "\n",
    "# Calculate the L2_error:\n",
    "error_local = fem.assemble_scalar(fem.form((uh - u_ex)**2 * ufl.dx))\n",
    "error_L2 = numpy.sqrt(domain.comm.allreduce(error_local, op=MPI.SUM))\n",
    "if domain.comm.rank == 0:\n",
    "    print(f\"L2-error: {error_L2:.2e}\")\n",
    "\n",
    "# Calculate the max error in the mesh dofs \n",
    "error_max = domain.comm.allreduce(numpy.max(numpy.abs(uh.x.array - u_D.x.array)), op=MPI.MAX)\n",
    "if domain.comm.rank == 0:\n",
    "    print(f\"Error_max: {error_max:.2e}\")"
   ]
  }
 ],
 "metadata": {
  "kernelspec": {
   "display_name": "fenicsx-env",
   "language": "python",
   "name": "python3"
  },
  "language_info": {
   "codemirror_mode": {
    "name": "ipython",
    "version": 3
   },
   "file_extension": ".py",
   "mimetype": "text/x-python",
   "name": "python",
   "nbconvert_exporter": "python",
   "pygments_lexer": "ipython3",
   "version": "3.13.3"
  }
 },
 "nbformat": 4,
 "nbformat_minor": 5
}
