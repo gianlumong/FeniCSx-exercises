{
 "cells": [
  {
   "cell_type": "markdown",
   "id": "e234037d",
   "metadata": {},
   "source": [
    "# Diffusion equation in the case where I know the analytical solution.\n",
    "\n",
    "Let's construct a test problem, to determine if the calculations are correct\n",
    "\n",
    "Now I want to solve the diffusion equation in the case where I know the analytical solution.\n",
    "\n",
    "and this is linear in time (but quadratic in space), that is, I'm choosing the following analytical solution:\n",
    "\n",
    "u= 1 + x^2 + alpha *y^2 + beta * t\n",
    "\n",
    "Thus, we will have:\n",
    "\n",
    "f(x,y)= beta - 2 - 2*alpha\n",
    "\n",
    "Diricelet BC: u_D= 1 + x^2 + alpha *y^2 + beta * t \n",
    "\n",
    "Initial condition: u0= 1 + x^2 + alpha *y^2 +\n"
   ]
  },
  {
   "cell_type": "code",
   "execution_count": 1,
   "id": "4347ca79",
   "metadata": {},
   "outputs": [],
   "source": [
    "from petsc4py import PETSc\n",
    "from mpi4py import MPI\n",
    "import ufl\n",
    "from dolfinx import mesh, fem\n",
    "from dolfinx.fem.petsc import assemble_matrix, assemble_vector, apply_lifting, create_vector, set_bc\n",
    "import numpy\n",
    "t = 0  # Start time\n",
    "T = 2  # End time\n",
    "num_steps = 20  # Number of time steps\n",
    "dt = (T - t) / num_steps  # Time step size\n",
    "alpha = 3\n",
    "beta = 1.2"
   ]
  },
  {
   "cell_type": "code",
   "execution_count": 2,
   "id": "60f87de3",
   "metadata": {},
   "outputs": [],
   "source": [
    "# Now I define domain, mesh and thus vector space \n",
    "\n",
    "nx, ny = 5, 5\n",
    "domain = mesh.create_unit_square(MPI.COMM_WORLD, nx, ny, mesh.CellType.triangle)\n",
    "V = fem.functionspace(domain, (\"Lagrange\", 1))"
   ]
  },
  {
   "cell_type": "markdown",
   "id": "d3ffc524",
   "metadata": {},
   "source": [
    "Now I define the exact solution:"
   ]
  },
  {
   "cell_type": "code",
   "execution_count": 3,
   "id": "38552fb9",
   "metadata": {},
   "outputs": [],
   "source": [
    "class exact_solution():\n",
    "    def __init__(self, alpha, beta, t):\n",
    "        self.alpha = alpha\n",
    "        self.beta = beta\n",
    "        self.t = t\n",
    "\n",
    "    def __call__(self, x):  #la classe __call__ mi permette di chiamare gli oggetti della classe come se fossero delle funzioni \n",
    "        return 1 + x[0]**2 + self.alpha * x[1]**2 + self.beta * self.t\n",
    "    \n",
    "u_exact= exact_solution(alpha,beta,t)"
   ]
  },
  {
   "cell_type": "markdown",
   "id": "29192bff",
   "metadata": {},
   "source": [
    "Now I need to define the BC (and thus also the dofs that belong to the boundary where to apply it)."
   ]
  },
  {
   "cell_type": "code",
   "execution_count": 4,
   "id": "97b7f529",
   "metadata": {},
   "outputs": [],
   "source": [
    "# define the BC\n",
    "uD=fem.Function(V)\n",
    "uD.interpolate(u_exact)\n",
    "\n",
    "# now I identify the facets on the boundary and the dofs on the boundary \n",
    "tdim=domain.topology.dim\n",
    "fdim=tdim-1\n",
    "domain.topology.create_connectivity(fdim,tdim) # create a mapping between facets and mesh cells \n",
    "boundary_facets=mesh.exterior_facet_indices(domain.topology) # identify the facets on the boundary \n",
    "\n",
    "# now I need to identify the dofs of the facets on the boundary \n",
    "boundary_dofs=fem.locate_dofs_topological(V,fdim,boundary_facets)\n",
    "\n",
    "# so I define the BCs (Dirichlet)\n",
    "bc=fem.dirichletbc(uD,boundary_dofs)"
   ]
  },
  {
   "cell_type": "code",
   "execution_count": 5,
   "id": "c6efd06c",
   "metadata": {},
   "outputs": [],
   "source": [
    "# now I define u_n at the initial step n=0 (so t=0)\n",
    "\n",
    "u_n=fem.Function(V)\n",
    "u_n.interpolate(u_exact) # since t is still equal to 0 it's as if I'm calculating the initial solution\n",
    "\n",
    "# so I define f \n",
    "f=fem.Constant(domain,beta-2-2*alpha)"
   ]
  },
  {
   "cell_type": "markdown",
   "id": "d2c4c3e1",
   "metadata": {},
   "source": [
    "Now that I have defined the variables I can formulate the variational problem."
   ]
  },
  {
   "cell_type": "code",
   "execution_count": 6,
   "id": "f1544209",
   "metadata": {},
   "outputs": [],
   "source": [
    "u=ufl.TrialFunction(V)\n",
    "v=ufl.TestFunction(V)\n",
    "\n",
    "F=u*v*ufl.dx+dt*ufl.inner(ufl.grad(u),ufl.grad(v))*ufl.dx-(u_n+dt*f)*v*ufl.dx\n",
    "\n",
    "a=fem.form(ufl.lhs(F))\n",
    "L=fem.form(ufl.rhs(F))"
   ]
  },
  {
   "cell_type": "markdown",
   "id": "17ee54ee",
   "metadata": {},
   "source": [
    "Now I create matrix A and vector b of the variational problem expressed as a linear system.\n",
    "\n",
    "Remember that A will be constant as t-steps vary,\n",
    "\n",
    "while b will vary as it will contain information about u at the previous time-step."
   ]
  },
  {
   "cell_type": "code",
   "execution_count": 7,
   "id": "98c3d55b",
   "metadata": {},
   "outputs": [],
   "source": [
    "A = assemble_matrix(a, bcs=[bc])\n",
    "A.assemble()\n",
    "b = create_vector(L)\n",
    "uh = fem.Function(V)"
   ]
  },
  {
   "cell_type": "code",
   "execution_count": 8,
   "id": "34475855",
   "metadata": {},
   "outputs": [],
   "source": [
    "from petsc4py import PETSc\n",
    "\n",
    "solver=PETSc.KSP().create(domain.comm)\n",
    "\n",
    "solver.setOperators(A)\n",
    "\n",
    "solver.setType(PETSc.KSP.Type.PREONLY)\n",
    "solver.getPC().setType(PETSc.PC.Type.LU)"
   ]
  },
  {
   "cell_type": "code",
   "execution_count": 9,
   "id": "bb8145b1",
   "metadata": {},
   "outputs": [],
   "source": [
    "from dolfinx.fem.petsc import assemble_matrix, assemble_vector, apply_lifting, create_vector, set_bc\n",
    "\n",
    "for n in range(num_steps):\n",
    "    # Update Dirichlet boundary condition\n",
    "    u_exact.t += dt # update the value of t in the exact solution (which will be used to define the Dirichlet BC)\n",
    "    uD.interpolate(u_exact)\n",
    "\n",
    "    # Update the right hand side reusing the initial vector\n",
    "    with b.localForm() as loc_b:\n",
    "        loc_b.set(0) # so I reset the value of b (because I will have to update it with the information\n",
    "# contained by u_n at the previous time-step)\n",
    "    assemble_vector(b, L)\n",
    "\n",
    "    # Apply Dirichlet boundary condition to the vector\n",
    "    apply_lifting(b, [a], [[bc]])\n",
    "    b.ghostUpdate(addv=PETSc.InsertMode.ADD_VALUES, mode=PETSc.ScatterMode.REVERSE)\n",
    "    set_bc(b, [bc])\n",
    "\n",
    "    # Solve linear problem\n",
    "    solver.solve(b, uh.x.petsc_vec)\n",
    "    uh.x.scatter_forward()\n",
    "\n",
    "    # Update solution at previous time step (u_n)\n",
    "    u_n.x.array[:] = uh.x.array"
   ]
  },
  {
   "cell_type": "markdown",
   "id": "d8813c0d",
   "metadata": {},
   "source": [
    "Now I check the accuracy of the problem solution."
   ]
  },
  {
   "cell_type": "code",
   "execution_count": 10,
   "id": "5f20ba8d",
   "metadata": {},
   "outputs": [
    {
     "name": "stdout",
     "output_type": "stream",
     "text": [
      "L2-error: 2.83e-02\n",
      "Error_max: 1.78e-15\n"
     ]
    }
   ],
   "source": [
    "# Compute L2 error and error at nodes\n",
    "V_ex = fem.functionspace(domain, (\"Lagrange\", 2)) # define the vector space of quadratic functions on the single element \n",
    "u_ex = fem.Function(V_ex) \n",
    "u_ex.interpolate(u_exact)\n",
    "\n",
    "error_L2 = numpy.sqrt(domain.comm.allreduce(fem.assemble_scalar(fem.form((uh - u_ex)**2 * ufl.dx)), op=MPI.SUM))\n",
    "if domain.comm.rank == 0:\n",
    "    print(f\"L2-error: {error_L2:.2e}\")\n",
    "\n",
    "# Compute values at mesh vertices\n",
    "error_max = domain.comm.allreduce(numpy.max(numpy.abs(uh.x.array - uD.x.array)), op=MPI.MAX)\n",
    "if domain.comm.rank == 0:\n",
    "    print(f\"Error_max: {error_max:.2e}\")"
   ]
  },
  {
   "cell_type": "markdown",
   "id": "60c05afb",
   "metadata": {},
   "source": [
    "As expected, the error at the dofs is practically machine error!!!!"
   ]
  }
 ],
 "metadata": {
  "kernelspec": {
   "display_name": "fenicsx-env",
   "language": "python",
   "name": "python3"
  },
  "language_info": {
   "codemirror_mode": {
    "name": "ipython",
    "version": 3
   },
   "file_extension": ".py",
   "mimetype": "text/x-python",
   "name": "python",
   "nbconvert_exporter": "python",
   "pygments_lexer": "ipython3",
   "version": "3.13.3"
  }
 },
 "nbformat": 4,
 "nbformat_minor": 5
}
